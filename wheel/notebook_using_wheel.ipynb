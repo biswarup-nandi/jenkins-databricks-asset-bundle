{
 "cells": [
  {
   "cell_type": "code",
   "execution_count": 0,
   "metadata": {
    "application/vnd.databricks.v1+cell": {
     "cellMetadata": {},
     "inputWidgets": {},
     "nuid": "7f12b5ed-3bab-44e9-9dae-bad42f3eae58",
     "showTitle": false,
     "title": ""
    }
   },
   "outputs": [],
   "source": [
    "from cartoon import app\n",
    "\n",
    "df = app.get_cartoon_data(spark)\n",
    "app.put_cartoon_data(df)"
   ]
  }
 ],
 "metadata": {
  "application/vnd.databricks.v1+notebook": {
   "dashboards": [],
   "language": "python",
   "notebookMetadata": {
    "mostRecentlyExecutedCommandWithImplicitDF": {
     "commandId": 4302294663328765,
     "dataframes": [
      "_sqldf"
     ]
    },
    "pythonIndentUnit": 4
   },
   "notebookName": "notebook_using_wheel",
   "widgets": {}
  }
 },
 "nbformat": 4,
 "nbformat_minor": 0
}
