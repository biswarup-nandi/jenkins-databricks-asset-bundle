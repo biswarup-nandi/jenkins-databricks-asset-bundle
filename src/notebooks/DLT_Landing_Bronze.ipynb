{
 "cells": [
  {
   "cell_type": "code",
   "execution_count": 0,
   "metadata": {
    "application/vnd.databricks.v1+cell": {
     "cellMetadata": {
      "byteLimit": 2048000,
      "rowLimit": 10000
     },
     "inputWidgets": {},
     "nuid": "f10266a0-5907-4532-b8fe-795a5c6b983e",
     "showTitle": false,
     "title": ""
    }
   },
   "outputs": [],
   "source": [
    "import dlt\n",
    "from pyspark.sql import *\n",
    "from pyspark.sql.functions import *\n",
    "from pyspark.sql.types import *"
   ]
  },
  {
   "cell_type": "code",
   "execution_count": 0,
   "metadata": {
    "application/vnd.databricks.v1+cell": {
     "cellMetadata": {
      "byteLimit": 2048000,
      "rowLimit": 10000
     },
     "inputWidgets": {},
     "nuid": "c46135bb-0a5a-4fce-a264-c0716f6450e0",
     "showTitle": false,
     "title": ""
    }
   },
   "outputs": [],
   "source": [
    "schema_json = StructType([\n",
    "    StructField(\"id\", StringType(), True),\n",
    "    StructField(\"timestamp_str\", StringType(), True),\n",
    "    StructField(\"secret\", IntegerType(), True),\n",
    "    StructField(\"active\", BooleanType(), True)\n",
    "])"
   ]
  },
  {
   "cell_type": "code",
   "execution_count": 0,
   "metadata": {
    "application/vnd.databricks.v1+cell": {
     "cellMetadata": {
      "byteLimit": 2048000,
      "rowLimit": 10000
     },
     "inputWidgets": {},
     "nuid": "482a0922-c60a-4c84-a41f-9c1a43abbbf3",
     "showTitle": false,
     "title": ""
    }
   },
   "outputs": [],
   "source": [
    "cloud_file_options = {\n",
    "    \"cloudFiles.format\":\"json\"\n",
    "}"
   ]
  },
  {
   "cell_type": "code",
   "execution_count": 0,
   "metadata": {
    "application/vnd.databricks.v1+cell": {
     "cellMetadata": {},
     "inputWidgets": {},
     "nuid": "9714410f-9d9d-46d3-92b8-fa0596931335",
     "showTitle": false,
     "title": ""
    }
   },
   "outputs": [],
   "source": [
    "@dlt.table(\n",
    "    name = \"bronze_nifi_streaming_table\"\n",
    ")\n",
    "def landing_to_bronze_streaming_table():\n",
    "    df = spark.readStream.format(\"cloudFiles\").options(**cloud_file_options).schema(schema_json).load(\"s3://databricks-development-ext-ws-bkt-767397898349/landing/\")\n",
    "    return df"
   ]
  },
  {
   "cell_type": "code",
   "execution_count": 0,
   "metadata": {
    "application/vnd.databricks.v1+cell": {
     "cellMetadata": {},
     "inputWidgets": {},
     "nuid": "dbab13ac-2d07-44c3-9399-2f01dc8fbd77",
     "showTitle": false,
     "title": ""
    }
   },
   "outputs": [],
   "source": [
    "@dlt.table(\n",
    "    name = \"bronze_nifi_materialized_view\"\n",
    ")\n",
    "def landing_to_bronze_materialized_view():\n",
    "    df = spark.read.format(\"json\").schema(schema_json).load(\"s3://databricks-development-ext-ws-bkt-767397898349/landing/\")\n",
    "    return df"
   ]
  }
 ],
 "metadata": {
  "application/vnd.databricks.v1+notebook": {
   "dashboards": [],
   "language": "python",
   "notebookMetadata": {
    "pythonIndentUnit": 4
   },
   "notebookName": "DLT_Landing_Bronze_Silver_Gold",
   "widgets": {}
  }
 },
 "nbformat": 4,
 "nbformat_minor": 0
}
